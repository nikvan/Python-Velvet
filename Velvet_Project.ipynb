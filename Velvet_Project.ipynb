{
 "cells": [
  {
   "cell_type": "markdown",
   "metadata": {},
   "source": [
    "```\n",
    "Bioinformatics Project\n",
    "Salvör Ísberg, Anna Eze, and Nikolas VanKeersbilck\n",
    "```"
   ]
  },
  {
   "cell_type": "markdown",
   "metadata": {},
   "source": [
    "Parse Fasta"
   ]
  },
  {
   "cell_type": "code",
   "execution_count": 1,
   "metadata": {},
   "outputs": [],
   "source": [
    "def parse_fasta(fn):\n",
    "    \"\"\"\n",
    "        Parses fasta file and returns the sequence name and the joined sequence as a string.\n",
    "    \"\"\"\n",
    "    with open(fn,'r') as f:\n",
    "        line = f.readline()\n",
    "        name = line[1:line.find(' ')].strip()\n",
    "        seq = []\n",
    "        while line:\n",
    "            line = f.readline()\n",
    "            seq.append(line.strip())\n",
    "    return name,''.join(seq)"
   ]
  },
  {
   "cell_type": "code",
   "execution_count": 2,
   "metadata": {},
   "outputs": [
    {
     "name": "stdout",
     "output_type": "stream",
     "text": [
      "12:53500000-54000000 500001\n"
     ]
    }
   ],
   "source": [
    "name, subseq = parse_fasta('/Users/nikolasvankeersbilck/Desktop/data/subseq.fasta')\n",
    "print(name, len(subseq))"
   ]
  },
  {
   "cell_type": "markdown",
   "metadata": {},
   "source": [
    "Parse fastq"
   ]
  },
  {
   "cell_type": "markdown",
   "metadata": {},
   "source": [
    "def parse_fastq(fn, limit=None):\n",
    "    \"\"\"\n",
    "        Parses fastq file and returns the reads in a list, must set limit of reads to bring in. \n",
    "    \"\"\"\n",
    "    seqs = []\n",
    "    with open(fn,'r') as f:\n",
    "        i = 0\n",
    "        while i < limit or limit is None:\n",
    "            _ = f.readline()\n",
    "            seq = f.readline().strip()\n",
    "            _ = f.readline()\n",
    "            _ = f.readline()\n",
    "            seqs.append(seq)\n",
    "            i += 1\n",
    "    return seqs"
   ]
  },
  {
   "cell_type": "code",
   "execution_count": null,
   "metadata": {},
   "outputs": [],
   "source": [
    "#just a function downloaded from internet since for the one provided in COVID assignment \n",
    "# you need to specify the number of reads to bring in\n",
    "def read_fastq(read_fn):\n",
    "    f = open(read_fn, 'r')\n",
    "    all_reads = []\n",
    "    next_line = False\n",
    "    count = 0\n",
    "    for line in f:\n",
    "        if count % 1000 == 0:\n",
    "            print(count, \" reads done.\")\n",
    "        line = line.strip()\n",
    "        # only append if its a true read\n",
    "        if next_line and line[0] != \"@\":\n",
    "            count += 1\n",
    "            all_reads.append(line)  # forward direction\n",
    "            all_reads.append(''.join(reversed(line)))  # backward direction\n",
    "        # true read always follows the line that starts with '@' character\n",
    "        if line[0] == \"@\":\n",
    "            next_line = True\n",
    "        else:\n",
    "            next_line = False\n",
    "    return all_reads\n"
   ]
  },
  {
   "cell_type": "code",
   "execution_count": null,
   "metadata": {},
   "outputs": [],
   "source": [
    "file1 = read_fastq('/Users/nikolasvankeersbilck/Desktop/data/reads_1.fastq')\n",
    "file2 = read_fastq('/Users/nikolasvankeersbilck/Desktop/data/reads_2.fastq')\n",
    "reads = file1 + file2\n",
    "#print(len(reads))\n",
    "#800000 reads"
   ]
  },
  {
   "cell_type": "code",
   "execution_count": null,
   "metadata": {},
   "outputs": [],
   "source": [
    "lenread = len(reads[0])\n",
    "print(lenread)\n",
    "#this will help us determine a k"
   ]
  },
  {
   "cell_type": "code",
   "execution_count": 3,
   "metadata": {
    "scrolled": true
   },
   "outputs": [
    {
     "name": "stdout",
     "output_type": "stream",
     "text": [
      "63\n"
     ]
    }
   ],
   "source": [
    "#test case\n",
    "testreads = ['AGTCGAG', 'CTTTAGA', 'CGATGAG', 'CTTTAGA', 'GTCGAGG', 'TTAGATC', 'ATGAGGC', 'GAGACAG', 'GAGGCTC',\n",
    "             'ATCCGAT', 'AGGCTTT', 'GAGACAG', 'AGTCGAG', 'TAGATCC', 'ATGAGGC', 'TAGAGAA', 'TAGTCGA', 'CTTTAGA',\n",
    "             'CCGATGA', 'TTAGAGA', 'CGAGGCT', 'AGATCCG', 'TGAGGCT', 'AGAGACA', 'TAGTCGA', 'GCTTTAG', 'TCCGATG',\n",
    "             'GCTCTAG', 'TCGACGC', 'GATCCGA', 'GAGGCTT', 'AGAGACA', 'TAGTCGA', 'TTAGATC', 'GATGAGG', 'TTTAGAG',\n",
    "             'GTCGAGG', 'TCTAGAT', 'ATGAGGC', 'TAGAGAC', 'AGGCTTT', 'ATCCGAT', 'AGGCTTT', 'GAGACAG', 'AGTCGAG',\n",
    "             'TTAGATT', 'ATGAGGC', 'AGAGACA', 'GGCTTTA', 'TCCGATG', 'TTTAGAG', 'CGAGGCT', 'TAGATCC', 'TGAGGCT',\n",
    "             'GAGACAG', 'AGTCGAG', 'TTTAGATC', 'ATGAGGC', 'TTAGAGA', 'GAGGCTT', 'GATCCGA', 'GAGGCTT', 'GAGACAG']\n",
    "print(len(testreads))"
   ]
  },
  {
   "cell_type": "markdown",
   "metadata": {},
   "source": [
    "Reverse Compliment"
   ]
  },
  {
   "cell_type": "code",
   "execution_count": 4,
   "metadata": {},
   "outputs": [],
   "source": [
    "def ReverseCompliment(Pattern):\n",
    "    \"\"\"\n",
    "        Returns the reverse compliment of a string. \n",
    "    \"\"\"\n",
    "    Compliment = []                                      \n",
    "    comp_dict = {'A':'T', 'G':'C', 'T':'A', 'C':'G'}     \n",
    "    for i in Pattern:                                    \n",
    "        Compliment.append(comp_dict[i])                  \n",
    "    ReverseCompliment = Compliment[::-1]                 \n",
    "    return \"\".join(str(x) for x in ReverseCompliment) "
   ]
  },
  {
   "cell_type": "code",
   "execution_count": 5,
   "metadata": {},
   "outputs": [
    {
     "data": {
      "text/plain": [
       "'CCTAC'"
      ]
     },
     "execution_count": 5,
     "metadata": {},
     "output_type": "execute_result"
    }
   ],
   "source": [
    "#test\n",
    "ReverseCompliment('GTAGG')"
   ]
  },
  {
   "cell_type": "markdown",
   "metadata": {},
   "source": [
    "Kmers"
   ]
  },
  {
   "cell_type": "code",
   "execution_count": 6,
   "metadata": {},
   "outputs": [],
   "source": [
    "from collections import defaultdict \n",
    "\n",
    "def kmers(reads, k):\n",
    "    \"\"\"\n",
    "        Creates kmers of a specified length from reads. \n",
    "        Structure: \n",
    "        - defaultdict\n",
    "        - contains list for each kmer where data goes\n",
    "        - using tuple inside list since it is unmutable\n",
    "        - example:\n",
    "       {kmer: [ (read #, starting index in read, isReverseStrand 0=no, 1=yes) ] }\n",
    "       {'AAAGAGAATGTCAAAGACTTC': [(0, 0, 0)], 'AAGAGAATGTCAAAGACTTCA': [(0, 1, 0)] }\n",
    "    \"\"\"\n",
    "    kmers = defaultdict(list)\n",
    "    \n",
    "    for i in range(len(reads)):\n",
    "        seq= reads[i]\n",
    "        revseq=ReverseCompliment(reads[i])\n",
    "        for j in range(0, len(seq) - k + 1):\n",
    "            kmer = seq[j:j + k]\n",
    "            value = (i, j, 0) \n",
    "            kmers[kmer].append(value)\n",
    "        #commented out for now just to allow easier comparison between our results and the example\n",
    "        #for l in range(0, len(revseq) - k + 1):         \n",
    "            #revkmer = revseq[l:l + k]\n",
    "            #revvalue = (i, l, 1) # 1 denotes it as being a reverse complement\n",
    "            #kmers[revkmer].append(revvalue)\n",
    "    return kmers"
   ]
  },
  {
   "cell_type": "code",
   "execution_count": 7,
   "metadata": {
    "scrolled": false
   },
   "outputs": [
    {
     "name": "stdout",
     "output_type": "stream",
     "text": [
      "defaultdict(<class 'list'>, {'AGTCG': [(0, 0, 0), (12, 0, 0), (16, 1, 0), (24, 1, 0), (32, 1, 0), (44, 0, 0), (55, 0, 0)], 'GTCGA': [(0, 1, 0), (4, 0, 0), (12, 1, 0), (16, 2, 0), (24, 2, 0), (32, 2, 0), (36, 0, 0), (44, 1, 0), (55, 1, 0)], 'TCGAG': [(0, 2, 0), (4, 1, 0), (12, 2, 0), (36, 1, 0), (44, 2, 0), (55, 2, 0)], 'CTTTA': [(1, 0, 0), (3, 0, 0), (17, 0, 0), (25, 1, 0), (48, 2, 0)], 'TTTAG': [(1, 1, 0), (3, 1, 0), (17, 1, 0), (25, 2, 0), (35, 0, 0), (50, 0, 0), (56, 0, 0)], 'TTAGA': [(1, 2, 0), (3, 2, 0), (5, 0, 0), (17, 2, 0), (19, 0, 0), (33, 0, 0), (35, 1, 0), (45, 0, 0), (50, 1, 0), (56, 1, 0), (58, 0, 0)], 'CGATG': [(2, 0, 0), (18, 1, 0), (26, 2, 0), (49, 2, 0)], 'GATGA': [(2, 1, 0), (18, 2, 0), (34, 0, 0)], 'ATGAG': [(2, 2, 0), (6, 0, 0), (14, 0, 0), (34, 1, 0), (38, 0, 0), (46, 0, 0), (57, 0, 0)], 'CGAGG': [(4, 2, 0), (20, 0, 0), (36, 2, 0), (51, 0, 0)], 'TAGAT': [(5, 1, 0), (13, 0, 0), (33, 1, 0), (37, 2, 0), (45, 1, 0), (52, 0, 0), (56, 2, 0)], 'AGATC': [(5, 2, 0), (13, 1, 0), (21, 0, 0), (33, 2, 0), (52, 1, 0), (56, 3, 0)], 'TGAGG': [(6, 1, 0), (14, 1, 0), (22, 0, 0), (34, 2, 0), (38, 1, 0), (46, 1, 0), (53, 0, 0), (57, 1, 0)], 'GAGGC': [(6, 2, 0), (8, 0, 0), (14, 2, 0), (20, 1, 0), (22, 1, 0), (30, 0, 0), (38, 2, 0), (46, 2, 0), (51, 1, 0), (53, 1, 0), (57, 2, 0), (59, 0, 0), (61, 0, 0)], 'GAGAC': [(7, 0, 0), (11, 0, 0), (23, 1, 0), (31, 1, 0), (39, 2, 0), (43, 0, 0), (47, 1, 0), (54, 0, 0), (62, 0, 0)], 'AGACA': [(7, 1, 0), (11, 1, 0), (23, 2, 0), (31, 2, 0), (43, 1, 0), (47, 2, 0), (54, 1, 0), (62, 1, 0)], 'GACAG': [(7, 2, 0), (11, 2, 0), (43, 2, 0), (54, 2, 0), (62, 2, 0)], 'AGGCT': [(8, 1, 0), (10, 0, 0), (20, 2, 0), (22, 2, 0), (30, 1, 0), (40, 0, 0), (42, 0, 0), (51, 2, 0), (53, 2, 0), (59, 1, 0), (61, 1, 0)], 'GGCTC': [(8, 2, 0)], 'ATCCG': [(9, 0, 0), (21, 2, 0), (29, 1, 0), (41, 0, 0), (60, 1, 0)], 'TCCGA': [(9, 1, 0), (26, 0, 0), (29, 2, 0), (41, 1, 0), (49, 0, 0), (60, 2, 0)], 'CCGAT': [(9, 2, 0), (18, 0, 0), (26, 1, 0), (41, 2, 0), (49, 1, 0)], 'GGCTT': [(10, 1, 0), (30, 2, 0), (40, 1, 0), (42, 1, 0), (48, 0, 0), (59, 2, 0), (61, 2, 0)], 'GCTTT': [(10, 2, 0), (25, 0, 0), (40, 2, 0), (42, 2, 0), (48, 1, 0)], 'GATCC': [(13, 2, 0), (21, 1, 0), (29, 0, 0), (52, 2, 0), (60, 0, 0)], 'TAGAG': [(15, 0, 0), (19, 1, 0), (35, 2, 0), (39, 0, 0), (50, 2, 0), (58, 1, 0)], 'AGAGA': [(15, 1, 0), (19, 2, 0), (23, 0, 0), (31, 0, 0), (39, 1, 0), (47, 0, 0), (58, 2, 0)], 'GAGAA': [(15, 2, 0)], 'TAGTC': [(16, 0, 0), (24, 0, 0), (32, 0, 0)], 'GCTCT': [(27, 0, 0)], 'CTCTA': [(27, 1, 0)], 'TCTAG': [(27, 2, 0), (37, 0, 0)], 'TCGAC': [(28, 0, 0)], 'CGACG': [(28, 1, 0)], 'GACGC': [(28, 2, 0)], 'CTAGA': [(37, 1, 0)], 'AGATT': [(45, 2, 0)]})\n"
     ]
    }
   ],
   "source": [
    "#k=71\n",
    "#readkmers = kmers(reads,k)\n",
    "\n",
    "k=5\n",
    "#testing\n",
    "testkmers = kmers(testreads, k)\n",
    "print(testkmers)"
   ]
  },
  {
   "cell_type": "markdown",
   "metadata": {},
   "source": [
    "de Bruijn Graph"
   ]
  },
  {
   "cell_type": "code",
   "execution_count": 67,
   "metadata": {},
   "outputs": [],
   "source": [
    "dbg = {}  # De bruijn graph\n",
    "# for each node, we're storing [set of outgoing edges, number of incoming edges]\n",
    "\n",
    "def build_dbg(kmers):\n",
    "    \"\"\"\n",
    "        Builds de Bruijn Graph given kmers\n",
    "        \n",
    "        Algorithm Overview:\n",
    "        1. For each k_mer gemerate left and right k-1 mer\n",
    "        2. Add an edge from left -> right in the graph\n",
    "        3. If left and right already exist, use those \n",
    "        \n",
    "        Structure:\n",
    "        { 'k-1mer': [{outgoing edges}, {incoming edges}, coverage] }\n",
    "        {'AGTC': [{'GTCG'}, {'TAGT'}, 7], 'GTCG': [{'TCGA'}, {'AGTC'}, 7] ....}\n",
    "    \"\"\"\n",
    "\n",
    "    for kmer in kmers: #for every kmer in our kmer dictionary\n",
    "        left, right = kmer[:-1], kmer[1:] #left and right kmers\n",
    "        \n",
    "        if left != right: \n",
    "            # for each node, add [set of outgoing edges, number of incoming edges, coverage 0] by default\n",
    "            # using set because duplicates are not allowed\n",
    "            \n",
    "            #{'AATGC': [(0, 0, 0), (1, 0, 0)], 'ATGCT': [(0, 1, 0)]}\n",
    "            \n",
    "            value = kmers.get(kmer) #get the value at that kmer which is a list\n",
    "            cov = len(value)  #see how many there are to determine initial coverage\n",
    "            \n",
    "            # dictionary.setdefault(keyname, value)\n",
    "            dbg.setdefault(left, [set(), set(), cov])\n",
    "            dbg.setdefault(right, [set(), set(), cov])\n",
    "            \n",
    "\n",
    "            if right not in dbg[left][0]:  #if the right k-1mer is not in left k-1mer's outgoing set\n",
    "                dbg[left][0].add(right)    #add it \n",
    "                dbg[right][1].add(left)    #add the left k-1mer to the right's incoming set\n",
    "    #return dbg"
   ]
  },
  {
   "cell_type": "code",
   "execution_count": 68,
   "metadata": {
    "scrolled": false
   },
   "outputs": [
    {
     "name": "stdout",
     "output_type": "stream",
     "text": [
      "{'AGTC': [{'GTCG'}, {'TAGT'}, 7], 'GTCG': [{'TCGA'}, {'AGTC'}, 7], 'TCGA': [{'CGAC', 'CGAG'}, {'GTCG'}, 9], 'CGAG': [{'GAGG'}, {'TCGA'}, 6], 'CTTT': [{'TTTA'}, {'GCTT'}, 5], 'TTTA': [{'TTAG'}, {'CTTT'}, 5], 'TTAG': [{'TAGA'}, {'TTTA'}, 7], 'TAGA': [{'AGAT', 'AGAG'}, {'CTAG', 'TTAG'}, 11], 'CGAT': [{'GATG'}, {'CCGA'}, 4], 'GATG': [{'ATGA'}, {'CGAT'}, 4], 'ATGA': [{'TGAG'}, {'GATG'}, 3], 'TGAG': [{'GAGG'}, {'ATGA'}, 7], 'GAGG': [{'AGGC'}, {'TGAG', 'CGAG'}, 4], 'AGAT': [{'GATC', 'GATT'}, {'TAGA'}, 7], 'GATC': [{'ATCC'}, {'AGAT'}, 6], 'AGGC': [{'GGCT'}, {'GAGG'}, 13], 'GAGA': [{'AGAC', 'AGAA'}, {'AGAG'}, 9], 'AGAC': [{'GACA'}, {'GAGA'}, 9], 'GACA': [{'ACAG'}, {'AGAC'}, 8], 'ACAG': [set(), {'GACA'}, 5], 'GGCT': [{'GCTC', 'GCTT'}, {'AGGC'}, 11], 'GCTC': [{'CTCT'}, {'GGCT'}, 1], 'ATCC': [{'TCCG'}, {'GATC'}, 5], 'TCCG': [{'CCGA'}, {'ATCC'}, 5], 'CCGA': [{'CGAT'}, {'TCCG'}, 6], 'GCTT': [{'CTTT'}, {'GGCT'}, 7], 'AGAG': [{'GAGA'}, {'TAGA'}, 6], 'AGAA': [set(), {'GAGA'}, 1], 'TAGT': [{'AGTC'}, set(), 3], 'CTCT': [{'TCTA'}, {'GCTC'}, 1], 'TCTA': [{'CTAG'}, {'CTCT'}, 1], 'CTAG': [{'TAGA'}, {'TCTA'}, 2], 'CGAC': [{'GACG'}, {'TCGA'}, 1], 'GACG': [{'ACGC'}, {'CGAC'}, 1], 'ACGC': [set(), {'GACG'}, 1], 'GATT': [set(), {'AGAT'}, 1]}\n"
     ]
    }
   ],
   "source": [
    "#build_dbg(readkmers)\n",
    "#print(dbg)\n",
    "\n",
    "#test case \n",
    "build_dbg(testkmers)\n",
    "print(dbg)\n",
    "\n",
    "#  Structure:\n",
    "# { 'k-1mer': [{outgoing edges}, {incoming edges}, coverage] }"
   ]
  },
  {
   "cell_type": "markdown",
   "metadata": {},
   "source": [
    "Graph Simplification"
   ]
  },
  {
   "cell_type": "code",
   "execution_count": 69,
   "metadata": {},
   "outputs": [
    {
     "name": "stdout",
     "output_type": "stream",
     "text": [
      "out:  ['AGTC', 'GTCG', 'CGAG', 'CTTT', 'TTTA', 'TTAG', 'CGAT', 'GATG', 'ATGA', 'TGAG', 'GAGG', 'GATC', 'AGGC', 'AGAC', 'GACA', 'GCTC', 'ATCC', 'TCCG', 'CCGA', 'GCTT', 'AGAG', 'TAGT', 'CTCT', 'TCTA', 'CTAG', 'CGAC', 'GACG']\n",
      "{'CGAG': [{'GAGGCT'}, {'TAGTCGA'}, 6], 'TAGA': [{'AGAGA', 'AGAT'}, {'GCTTTAG', 'GCTCTAG'}, 11], 'AGAT': [{'GATCCGATGAG', 'GATT'}, {'TAGA'}, 7], 'AGAA': [set(), {'AGAGA'}, 1], 'GATT': [set(), {'AGAT'}, 1], 'GAGGCT': [{'GCTTTAG', 'GCTCTAG'}, {'GATCCGATGAG', 'CGAG'}, 28], 'AGACAG': [set(), {'AGAGA'}, 22], 'GATCCGATGAG': [{'GAGGCT'}, {'AGAT'}, 40], 'GCTTTAG': [{'TAGA'}, {'GAGGCT'}, 24], 'AGAGA': [{'AGACAG', 'AGAA'}, {'TAGA'}, 15], 'TAGTCGA': [{'CGACGC', 'CGAG'}, set(), 26], 'GCTCTAG': [{'TAGA'}, {'GAGGCT'}, 5], 'CGACGC': [set(), {'TAGTCGA'}, 3]}\n"
     ]
    }
   ],
   "source": [
    "## Simplify ## Anna(27.11. kl.21:02)\n",
    "'''\n",
    "for example: (pre)-> abc -> bcd ->(post) to (pre)-> abcd ->(post)\n",
    "'''\n",
    "def simplified(dbg):\n",
    "  out1 = []     # Nodes that only have one outgoing edge\n",
    "  for abc in dbg:\n",
    "    if len(dbg[abc][0]) == 1:\n",
    "      out1.append(abc)\n",
    "\n",
    "  print('out: ', out1)\n",
    "\n",
    "  for i in range(len(out1)):\n",
    "    #if len(dbg[abc][0]) == 1:      # Only 1 outgoing from abc\n",
    "      abc = out1[i]\n",
    "      #print('XXX abc: ', abc)\n",
    "      bcd = next(iter(dbg[abc][0]))\n",
    "      if len(dbg[bcd][1]) == 1:     # Only 1 incoming to bcd\n",
    "        abcd = abc + bcd[k-2:]\n",
    "        #print('abcd: ', abcd)\n",
    "        #print('abc: ', abc)\n",
    "        #print('bcd: ', bcd)\n",
    "        #print('end of bcd: ', bcd[k-2:])\n",
    "        #print('dbg: ', dbg[abc])\n",
    "        #print('pre: ',dbg[abc][1])\n",
    "        for post in dbg[bcd][0]:\n",
    "          dbg[post][1].remove(bcd) \n",
    "          dbg[post][1].add(abcd)\n",
    "        for pre in dbg[abc][1]:   # Change abc to abcd in outgoing nodes in pre\n",
    "          dbg[pre][0].remove(abc) \n",
    "          dbg[pre][0].add(abcd)\n",
    "          dbg[bcd][1].add(pre)\n",
    "        \n",
    "        #print('1: ',dbg[bcd])\n",
    "\n",
    "        dbg[bcd][1].remove(abc)\n",
    "        #print('2: ',dbg[bcd])\n",
    "        dbg[bcd][2] += dbg[abc][2] \n",
    "        #dbg[bcd][0] = dbg[abc][0]\n",
    "        #print('3: ',dbg[bcd])\n",
    "        dbg[abcd] = dbg[bcd]\n",
    "\n",
    "        if bcd in out1:\n",
    "          ind = out1.index(bcd)\n",
    "          out1[ind] = abcd\n",
    "        \n",
    "        del dbg[bcd]\n",
    "        del dbg[abc]\n",
    "\n",
    "        #print(dbg)\n",
    "    \n",
    "  return dbg\n",
    "\n",
    "dbgS = simplified(dbg)\n",
    "print(dbgS)\n"
   ]
  },
  {
   "cell_type": "markdown",
   "metadata": {},
   "source": [
    "Removing Tips"
   ]
  },
  {
   "cell_type": "code",
   "execution_count": 70,
   "metadata": {},
   "outputs": [],
   "source": [
    "remove = []\n",
    "def find_tips():\n",
    "    \"\"\"\n",
    "        A “tip” is a chain of nodes that is disconnected on one end (either no incoming edges (Case 1) \n",
    "        or no outgoing edges (Case 2)). \n",
    "        A tip will only be removed if it is shorter than 2k. \n",
    "        High coverage nodes are not removed. \n",
    "        \n",
    "    \"\"\"\n",
    "    \n",
    "    global change\n",
    "\n",
    "    #for every key in the dbg \n",
    "    for key in dbgS.keys():\n",
    "        inList=True # if key is already in the remove list, don't need to add it \n",
    "\n",
    "        # Case 1:\n",
    "        #if there is no incoming connections and the length of the kmer is less than 2k\n",
    "        #print(key, 'key')\n",
    "        values = dbgS[key]\n",
    "        #print(values)\n",
    "        list_incoming = values[1]\n",
    "        len_incoming = len(list_incoming)\n",
    "        #print(len_incoming)\n",
    "        len_key = len(key)\n",
    "        #print(len_key, 'len_key')\n",
    "        \n",
    "        \n",
    "        #Case 1:\n",
    "        if(len_incoming==0 and len_key < 2*k): #if the length of the incoming is 0 and len is < 2k\n",
    "            smallestCoverage = True\n",
    "            # Go to the predecessors of the succesor of this tip to find the one with smallest coverage.\n",
    "            for j in dbgS[key][0]:            #loop through outgoing list for key\n",
    "                incoming = dbgS[j][1]         #get incoming list for outgoing at j\n",
    "                if(len(incoming)>1):          #if incoming has more than one edge\n",
    "                    coverage = dbgS[key][2]   #get the coverage\n",
    "                    for i in incoming:            #for every entry in that list\n",
    "                        if(dbgS[i][2]<coverage):  # if it has coverage less than the coverage of our key\n",
    "                            smallestCoverage=False        #it is not smallest\n",
    "                            break;\n",
    "                    \n",
    "                    if(smallestCoverage):             #if it does have the smallest coverage, we need to remove it\n",
    "                        change=True           \n",
    "                        #write key to list to remove later because we can't modify a dict as we are iterating over it\n",
    "                        remove.append(key)    #append it to the list\n",
    "                        inList=False          \n",
    "                        break\n",
    "\n",
    "        # Case 2:\n",
    "        # no outgoing edges\n",
    "        if(inList and len(dbgS[key][0])==0  and len(key) < 2*k):#if the length of the outgoing is 0 and len is < 2k\n",
    "            smallestCoverage=True\n",
    "            # Look at all the succesors of the predecessor of this tip to find the one with smallest coverage.\n",
    "            for j in dbgS[key][1]:\n",
    "                outgoing = dbgS[j][0]\n",
    "                if(len(outgoing)>1):\n",
    "                    i=0\n",
    "                    coverage = dbgS[key][2]\n",
    "                    for i in outgoing:\n",
    "                        if(dbgS[i][2]<coverage):\n",
    "                            smallestCoverage=False\n",
    "                            break;\n",
    "                    # If this tip has the smallest coverage then remove it.\n",
    "                    if(smallestCoverage):\n",
    "                        change=True                            \n",
    "                        #write key to list to remove later\n",
    "                        remove.append(key)\n",
    "                        \n",
    "                        break\n"
   ]
  },
  {
   "cell_type": "code",
   "execution_count": 71,
   "metadata": {},
   "outputs": [
    {
     "name": "stdout",
     "output_type": "stream",
     "text": [
      "['AGAA', 'GATT', 'CGACGC']\n"
     ]
    }
   ],
   "source": [
    "find_tips()\n",
    "print(remove)"
   ]
  },
  {
   "cell_type": "code",
   "execution_count": 72,
   "metadata": {},
   "outputs": [],
   "source": [
    "def remove_tips():\n",
    "    \"\"\"\n",
    "        Removes the tips we found earlier\n",
    "        Also removes edges connected to these\n",
    "    \"\"\"\n",
    "    for i in remove: \n",
    "        #print(i)\n",
    "        kmer = dbgS.get(i)\n",
    "        #print(kmer)\n",
    "        incoming=kmer[1]\n",
    "        #print(incoming)\n",
    "        outgoing=kmer[0]\n",
    "        #print(outgoing)\n",
    "        del dbgS[i]\n",
    "        for j in incoming:        #remove incoming\n",
    "            dbgS[j][0].remove(i)\n",
    "        for j in outgoing:        #remove outgoing\n",
    "            dbgS[j][1].remove(i)"
   ]
  },
  {
   "cell_type": "code",
   "execution_count": 73,
   "metadata": {},
   "outputs": [
    {
     "name": "stdout",
     "output_type": "stream",
     "text": [
      "{'CGAG': [{'GAGGCT'}, {'TAGTCGA'}, 6], 'TAGA': [{'AGAGA', 'AGAT'}, {'GCTTTAG', 'GCTCTAG'}, 11], 'AGAT': [{'GATCCGATGAG'}, {'TAGA'}, 7], 'GAGGCT': [{'GCTTTAG', 'GCTCTAG'}, {'GATCCGATGAG', 'CGAG'}, 28], 'AGACAG': [set(), {'AGAGA'}, 22], 'GATCCGATGAG': [{'GAGGCT'}, {'AGAT'}, 40], 'GCTTTAG': [{'TAGA'}, {'GAGGCT'}, 24], 'AGAGA': [{'AGACAG'}, {'TAGA'}, 15], 'TAGTCGA': [{'CGAG'}, set(), 26], 'GCTCTAG': [{'TAGA'}, {'GAGGCT'}, 5]}\n"
     ]
    }
   ],
   "source": [
    "remove_tips()\n",
    "print(dbgS)"
   ]
  },
  {
   "cell_type": "code",
   "execution_count": 74,
   "metadata": {},
   "outputs": [],
   "source": [
    "def bubble_removal():\n",
    "    \"\"\"\n",
    "        We consider two paths redundant if they start and end at the same nodes (forming a “bubble”) \n",
    "        and contain similar sequences. \n",
    "        Applied using simple sequence identity and length thresholds.\n",
    "        Detection of redundant paths is done through a breadth-first search. \n",
    "        - The algorithm starts from an arbitrary node and progresses along the graph, visiting nodes \n",
    "          in order of increasing distance from the origin.\n",
    "          \n",
    "          Whenever the process encounters a previously visited node, it backtracks from both the current\n",
    "          node and the previously visited node, to find their closest common ancestor\n",
    "          \n",
    "          From the two retraced paths, the sequences are extracted and aligned. If judged similar enough, \n",
    "          they are merged. The path that reached the end node first in the search, “shortest” according to\n",
    "          the metric, is used as the consensus path because of its higher coverage.\n",
    "        \n",
    "    \"\"\"\n",
    "    # { 'k-1mer': [{outgoing edges}, {incoming edges}, coverage] }\n",
    "    # {'CGAG': [{'GAGGCT'}, {'TAGTA'}, 6], 'TAGA': [{'AGAGA', 'AGAT'}, {'GCTCTAG', 'GCTTG'}, 11]....}\n",
    "    \n",
    "    # start bubble removal with any nodes that has no incoming edges \n",
    "    # it is easiest to start looking here \n",
    "    start=[]\n",
    "    for key in dbgS:                                  #for every key in simplified DBG\n",
    "        value = dbgS[key]                             #get the value at the key\n",
    "        if len(value[1])==0 and len(value[0])>0:      #if the # of incoming==0 and # of outgoing > 0\n",
    "            start.append(key)                         #append the key to our list \n",
    "    \n",
    "    #go through these starting nodes\n",
    "    # breadth-first search\n",
    "    for i in range(0,len(start)):                     #for every possible starting node\n",
    "        graph=dict()                                  #dict to hold our graph\n",
    "        q=[]          \n",
    "        already_visited=[]                            #visited list\n",
    "        graph[start[i]]=[0, None]                     #write index in start list to graph and assign it [0, None]\n",
    "        q.append(start[i])                            #append begin[i] to the q list\n",
    "        already_visited.append(start[i])              #append start[i] to visited list\n",
    "        found=True\n",
    "        breakbool=False\n",
    "        while len(q)>0 and not breakbool:                #while length of q list is > 0 and not true\n",
    "            smallest=float(\"inf\")                        #unbounded upper value for comparison and finding smallest value\n",
    "            found=False;                                 #found is false\n",
    "            #dijkstra algorithm\n",
    "            for item in q:                                        #for every item in q\n",
    "                if item in graph and graph[item][0]<smallest:   #if the element is in the graph and it is less than the smallest\n",
    "                    smallest=graph[item][0]                     #we assign a new item with the smallest coverage\n",
    "                    found=True                                  #we have found a new smallest\n",
    "                    smallestItem=item                          \n",
    "            # check that smallest element exists in graph\n",
    "            if found == True:\n",
    "                q.remove(smallestItem)                   #remove it from the q list\n",
    "                already_visited.append(smallestItem)     #append it to the already visited list\n",
    "                outgoing=dbgS[smallestItem][0]           # set outgoing in DBG \n",
    "                for key in outgoing:          #for every key in the outgoing list\n",
    "                    if key not in already_visited: #if it has not been already visited\n",
    "                        q.append(key)        \n",
    "                        #weight function that makes the path with smallest coverage gets visited last\n",
    "                        weight=graph[smallestItem][0]+(len(key)/dbgS[key][2]) #weight = cov at cur\n",
    "                        if key not in graph or weight<graph[key][0]: \n",
    "                            graph[key]=[weight,smallestItem]\n",
    "                    else: # if we found the node before removing the bubble \n",
    "                        predeccesor = find_common_predeccesor([],graph,key,smallestItem) #find the most common predec. \n",
    "                        if predeccesor!=None: #if it does not equal none\n",
    "                            delete_path(smallestItem,predeccesor,graph) #delete it\n",
    "                            breakbool=True\n",
    "                            break\n"
   ]
  },
  {
   "cell_type": "code",
   "execution_count": 75,
   "metadata": {},
   "outputs": [],
   "source": [
    "def delete_path(smallestItem,predeccesor,graph):\n",
    "    \"\"\"\n",
    "       Deletes a path \n",
    "    \"\"\"\n",
    "    if smallestItem!=predeccesor :\n",
    "        global change\n",
    "        change=True\n",
    "        incoming=dbgS[smallestItem][1]\n",
    "        outgoing=dbgS[smallestItem][0]\n",
    "        del dbgS[smallestItem]\n",
    "        for j in incoming:\n",
    "            dbgS[j][0].remove(smallestItem)\n",
    "        for j in outgoing:\n",
    "            dbgS[j][1].remove(smallestItem)\n",
    "        delete_path(graph[smallestItem][1],predeccesor,graph)"
   ]
  },
  {
   "cell_type": "code",
   "execution_count": 76,
   "metadata": {},
   "outputs": [],
   "source": [
    "def find_common_predeccesor(predeccesor,graph,key,smallestItem):\n",
    "    \"\"\"\n",
    "    Finds the earliest common predecessor of two nodes\n",
    "    \"\"\"\n",
    "    if (smallestItem in predeccesor): #if the smallest item is in predeccesor\n",
    "        return smallestItem           \n",
    "    if key in predeccesor:            #if key is in predeccesor, \n",
    "        return key                    \n",
    "    if (key == smallestItem):         #if key == smallest item\n",
    "        return key                    \n",
    "    predeccesor.append(smallestItem)  \n",
    "    predeccesor.append(key)          \n",
    "    newsmallestItem=smallestItem\n",
    "    newkey=key\n",
    "    new=False\n",
    "    if (smallestItem in graph and graph[smallestItem][1] !=None):  \n",
    "        newsmallestItem=graph[smallestItem][1]\n",
    "        new=True\n",
    "    if (key in graph and graph[key][1] != None):\n",
    "        newkey = graph[key][1]\n",
    "        new=True\n",
    "    if (new):\n",
    "        return find_common_predeccesor(predeccesor,graph,newkey,newsmallestItem)"
   ]
  },
  {
   "cell_type": "code",
   "execution_count": 77,
   "metadata": {
    "scrolled": true
   },
   "outputs": [
    {
     "name": "stdout",
     "output_type": "stream",
     "text": [
      "out:  ['CGAG', 'AGAT', 'GATCCGATGAG', 'GCTTTAG', 'AGAGA', 'TAGTCGA', 'GCTCTAG']\n",
      "Simplified again:  {'TAGA': [{'AGAGACAG', 'AGATCCGATGAG'}, {'GCTTTAG', 'GCTCTAG'}, 11], 'GAGGCT': [{'GCTTTAG', 'GCTCTAG'}, {'TAGTCGAG', 'AGATCCGATGAG'}, 28], 'GCTTTAG': [{'TAGA'}, {'GAGGCT'}, 24], 'GCTCTAG': [{'TAGA'}, {'GAGGCT'}, 5], 'AGATCCGATGAG': [{'GAGGCT'}, {'TAGA'}, 47], 'AGAGACAG': [set(), {'TAGA'}, 37], 'TAGTCGAG': [{'GAGGCT'}, set(), 32]}\n",
      "Bubbles removed:  {'GCTCTAG': [set(), set(), 5], 'AGAGACAG': [set(), set(), 37], 'TAGTCGAG': [set(), set(), 32]}\n"
     ]
    }
   ],
   "source": [
    "# Simplify again after tip but before bubble\n",
    "dbgS = simplified(dbgS)\n",
    "print('Simplified again: ',dbgS)\n",
    "\n",
    "# Remove bubbles\n",
    "bubble_removal()\n",
    "print('Bubbles removed: ',dbgS)"
   ]
  },
  {
   "cell_type": "code",
   "execution_count": null,
   "metadata": {},
   "outputs": [],
   "source": [
    "def coverage_cutoff():\n",
    "    cutoff=4                  #define cutoff here\n",
    "    for k in dbgS.keys():\n",
    "        if dbgS[k][2]<cutoff: #delete it if it is smaller than the cutoff point\n",
    "            global change\n",
    "            change=True\n",
    "            incoming=dbgS[k][1]\n",
    "            outgoing=dbgS[k][0]\n",
    "            del dbgS[k]\n",
    "            for j in incoming:\n",
    "                dbgS[j][0].remove(k)\n",
    "            for j in outgoing:\n",
    "                dbgS[j][1].remove(k)"
   ]
  },
  {
   "cell_type": "code",
   "execution_count": null,
   "metadata": {},
   "outputs": [],
   "source": [
    "print(dbgS)"
   ]
  }
 ],
 "metadata": {
  "kernelspec": {
   "display_name": "Python 3",
   "language": "python",
   "name": "python3"
  },
  "language_info": {
   "codemirror_mode": {
    "name": "ipython",
    "version": 3
   },
   "file_extension": ".py",
   "mimetype": "text/x-python",
   "name": "python",
   "nbconvert_exporter": "python",
   "pygments_lexer": "ipython3",
   "version": "3.8.3"
  }
 },
 "nbformat": 4,
 "nbformat_minor": 4
}
